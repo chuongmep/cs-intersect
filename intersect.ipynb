{
 "cells": [
  {
   "cell_type": "code",
   "execution_count": 1,
   "metadata": {},
   "outputs": [
    {
     "data": {
      "image/png": "[encoded data removed]",
      "text/plain": [
       "<Figure size 640x480 with 1 Axes>"
      ]
     },
     "metadata": {},
     "output_type": "display_data"
    }
   ],
   "source": [
    "import matplotlib.pyplot as plt\n",
    "import matplotlib.patches as patches\n",
    "\n",
    "# Define the coordinates for polygons A and B\n",
    "polygon_A_coords = [(4, 1), (6, 1), (6, 6), (4, 6)]\n",
    "polygon_B_coords = [(2, 5), (8, 5), (8, 8), (2, 8)]\n",
    "\n",
    "# Helper function to get edges from coordinates\n",
    "def get_edges(coords):\n",
    "    edges = []\n",
    "    for i in range(len(coords)):\n",
    "        edges.append((coords[i], coords[(i + 1) % len(coords)]))\n",
    "    return edges\n",
    "\n",
    "# Helper function to check if a point is inside an edge\n",
    "def is_inside(p, edge):\n",
    "    a, b = edge\n",
    "    return (b[0] - a[0]) * (p[1] - a[1]) > (b[1] - a[1]) * (p[0] - a[0])\n",
    "\n",
    "# Helper function to compute intersection of two lines\n",
    "def compute_intersection(a, b, c, d):\n",
    "    A1 = b[1] - a[1]\n",
    "    B1 = a[0] - b[0]\n",
    "    C1 = A1 * a[0] + B1 * a[1]\n",
    "    A2 = d[1] - c[1]\n",
    "    B2 = c[0] - d[0]\n",
    "    C2 = A2 * c[0] + B2 * c[1]\n",
    "    delta = A1 * B2 - A2 * B1\n",
    "    if delta == 0:\n",
    "        raise ValueError(\"Lines do not intersect\")\n",
    "    x = (B2 * C1 - B1 * C2) / delta\n",
    "    y = (A1 * C2 - A2 * C1) / delta\n",
    "    return (x, y)\n",
    "\n",
    "# Sutherland-Hodgman algorithm to find intersection of two polygons\n",
    "def sutherland_hodgman(subject_polygon, clip_polygon):\n",
    "    output_list = subject_polygon\n",
    "    for edge in get_edges(clip_polygon):\n",
    "        input_list = output_list\n",
    "        output_list = []\n",
    "        s = input_list[-1]\n",
    "        for e in input_list:\n",
    "            if is_inside(e, edge):\n",
    "                if not is_inside(s, edge):\n",
    "                    output_list.append(compute_intersection(s, e, edge[0], edge[1]))\n",
    "                output_list.append(e)\n",
    "            elif is_inside(s, edge):\n",
    "                output_list.append(compute_intersection(s, e, edge[0], edge[1]))\n",
    "            s = e\n",
    "    return output_list\n",
    "\n",
    "# Calculate the intersection of polygons A and B\n",
    "intersection_coords = sutherland_hodgman(polygon_A_coords, polygon_B_coords)\n",
    "\n",
    "# Visualize the polygons and their intersection\n",
    "fig, ax = plt.subplots()\n",
    "\n",
    "# Add polygons A and B\n",
    "patch_A = patches.Polygon(polygon_A_coords, closed=True, fill=True, color='blue', alpha=0.5, label='A')\n",
    "patch_B = patches.Polygon(polygon_B_coords, closed=True, fill=True, color='green', alpha=0.5, label='B')\n",
    "ax.add_patch(patch_A)\n",
    "ax.add_patch(patch_B)\n",
    "\n",
    "# Add the intersection polygon\n",
    "if intersection_coords:\n",
    "    patch_intersection = patches.Polygon(intersection_coords, closed=True, fill=True, color='red', alpha=0.5, label='C')\n",
    "    ax.add_patch(patch_intersection)\n",
    "\n",
    "# Set plot limits and labels\n",
    "ax.set_xlim(0, 10)\n",
    "ax.set_ylim(0, 10)\n",
    "ax.set_aspect('equal')\n",
    "plt.xlabel('X')\n",
    "plt.ylabel('Y')\n",
    "plt.legend()\n",
    "\n",
    "# Show plot\n",
    "plt.show()\n"
   ]
  }
 ],
 "metadata": {
  "kernelspec": {
   "display_name": "Python 3",
   "language": "python",
   "name": "python3"
  },
  "language_info": {
   "codemirror_mode": {
    "name": "ipython",
    "version": 3
   },
   "file_extension": ".py",
   "mimetype": "text/x-python",
   "name": "python",
   "nbconvert_exporter": "python",
   "pygments_lexer": "ipython3",
   "version": "3.11.7"
  }
 },
 "nbformat": 4,
 "nbformat_minor": 2
}
